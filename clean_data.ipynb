{
 "cells": [
  {
   "cell_type": "code",
   "execution_count": 1,
   "metadata": {},
   "outputs": [],
   "source": [
    "import pandas as pd"
   ]
  },
  {
   "cell_type": "code",
   "execution_count": 2,
   "metadata": {},
   "outputs": [
    {
     "name": "stderr",
     "output_type": "stream",
     "text": [
      "/tmp/ipykernel_67977/3536806131.py:1: DtypeWarning: Columns (9) have mixed types. Specify dtype option on import or set low_memory=False.\n",
      "  df = pd.read_csv(\"SBAnational.csv\")\n"
     ]
    }
   ],
   "source": [
    "df = pd.read_csv(\"SBAnational.csv\")"
   ]
  },
  {
   "cell_type": "markdown",
   "metadata": {},
   "source": [
    "### Name"
   ]
  },
  {
   "cell_type": "code",
   "execution_count": 3,
   "metadata": {},
   "outputs": [],
   "source": [
    "df.drop(columns=[\"Name\"], inplace=True)# variable non pertinente"
   ]
  },
  {
   "cell_type": "markdown",
   "metadata": {},
   "source": [
    "### City"
   ]
  },
  {
   "cell_type": "code",
   "execution_count": 4,
   "metadata": {},
   "outputs": [],
   "source": [
    "# suppression de la colonne City\n",
    "# valeurs manquantes et pas de deduction fiable à partir de Zip ou State\n",
    "df.drop(columns=[\"City\"], inplace=True)"
   ]
  },
  {
   "cell_type": "markdown",
   "metadata": {},
   "source": [
    "### State"
   ]
  },
  {
   "cell_type": "markdown",
   "metadata": {},
   "source": [
    "Valeurs manquantes dans la colonne 'State'.\n",
    "J'ai d'abord essayé de compléter ces valeurs avec ('Zip'). Mais, certains zip correspondent à plusieurs États.\n",
    "Pour les cas ambigues j'ai utilisé la colonne 'BankState'.\n",
    "ET BAM!!!!"
   ]
  },
  {
   "cell_type": "code",
   "execution_count": 5,
   "metadata": {},
   "outputs": [
    {
     "name": "stdout",
     "output_type": "stream",
     "text": [
      " 1\n"
     ]
    }
   ],
   "source": [
    "zip_state_counts = df.groupby(\"Zip\")[\"State\"].nunique()\n",
    "\n",
    "zip_state = df.groupby(\"Zip\")[\"State\"].first()\n",
    "\n",
    "df[\"State\"] = df.apply(lambda row: zip_state[row[\"Zip\"]] if pd.isnull(row[\"State\"]) and row[\"Zip\"] in zip_state else row[\"State\"], axis=1)\n",
    "\n",
    "missing_state = df[\"State\"].isnull().sum()\n",
    "print(f\" {missing_state}\")\n"
   ]
  },
  {
   "cell_type": "code",
   "execution_count": 6,
   "metadata": {},
   "outputs": [
    {
     "name": "stdout",
     "output_type": "stream",
     "text": [
      "0\n"
     ]
    }
   ],
   "source": [
    "\n",
    "if missing_state > 0:\n",
    "    df[\"State\"] = df.apply(lambda row: row[\"BankState\"] if pd.isnull(row[\"State\"]) else row[\"State\"], axis=1)\n",
    "\n",
    "final_missing_state = df[\"State\"].isnull().sum()\n",
    "print(f\"{final_missing_state}\")\n"
   ]
  },
  {
   "cell_type": "markdown",
   "metadata": {},
   "source": [
    "### Zip"
   ]
  },
  {
   "cell_type": "code",
   "execution_count": 7,
   "metadata": {},
   "outputs": [],
   "source": [
    "# Passer 'Zip' en string pour la traiter comme une donnée catégorielle\n",
    "df[\"Zip\"] = df[\"Zip\"].astype(str).str.zfill(5)"
   ]
  },
  {
   "cell_type": "code",
   "execution_count": 8,
   "metadata": {},
   "outputs": [
    {
     "data": {
      "text/plain": [
       "array(['47711', '46526', '47401', ..., '70036', '66549', '26134'],\n",
       "      shape=(33611,), dtype=object)"
      ]
     },
     "execution_count": 8,
     "metadata": {},
     "output_type": "execute_result"
    }
   ],
   "source": [
    "df[\"Zip\"].unique()"
   ]
  },
  {
   "cell_type": "markdown",
   "metadata": {},
   "source": [
    "Je suis en train de réfléchir à l'intégration de la colonne Zip dans le modèle ML. Elle pourrait être encodée par une variable catégorique ou utilisé uniquement les states, mais ça prend temps. (33611 zip différents, aie aie aie ouille ouille ouille)"
   ]
  },
  {
   "cell_type": "markdown",
   "metadata": {},
   "source": [
    "### Bank"
   ]
  },
  {
   "cell_type": "markdown",
   "metadata": {},
   "source": [
    "Ici nous avons une problématique avec les valeurs manquante, comment les remplacer."
   ]
  },
  {
   "cell_type": "code",
   "execution_count": 9,
   "metadata": {},
   "outputs": [],
   "source": [
    "df[\"Bank\"] = df[\"Bank\"].fillna(\"Unknown\")"
   ]
  },
  {
   "cell_type": "markdown",
   "metadata": {},
   "source": [
    "Réflexion, si on regarde la bank la plus populaire dans le secteur(State)... \n",
    "on pourrait peut être remplacer Unknown par une valeur plausible...?? GPTTTTTTT HELLLP"
   ]
  },
  {
   "cell_type": "code",
   "execution_count": 10,
   "metadata": {},
   "outputs": [
    {
     "name": "stdout",
     "output_type": "stream",
     "text": [
      "0\n",
      "Bank\n",
      "BANK OF AMERICA NATL ASSOC        86853\n",
      "WELLS FARGO BANK NATL ASSOC       63503\n",
      "JPMORGAN CHASE BANK NATL ASSOC    48167\n",
      "U.S. BANK NATIONAL ASSOCIATION    35143\n",
      "CITIZENS BANK NATL ASSOC          35054\n",
      "Name: count, dtype: int64\n"
     ]
    }
   ],
   "source": [
    "\n",
    "bank_mode_by_state = (\n",
    "    df[df[\"Bank\"] != \"Unknown\"]\n",
    "    .groupby(\"BankState\")[\"Bank\"]\n",
    "    .agg(lambda x: x.mode().iloc[0] if not x.mode().empty else \"Unknown\")\n",
    ")\n",
    "\n",
    "# Fonction d'imputation pour la colonne Bank\n",
    "def impute_bank(row):\n",
    "    # Si Bank vaut \"Unknown\" et que BankState est renseigné, on essaie d'utiliser le mapping\n",
    "    if row[\"Bank\"] == \"Unknown\":\n",
    "        state = row[\"BankState\"]\n",
    "        if pd.notnull(state) and state in bank_mode_by_state.index:\n",
    "            return bank_mode_by_state[state]\n",
    "    return row[\"Bank\"]\n",
    "\n",
    "# Appliquer l'imputation ligne par ligne\n",
    "df[\"Bank\"] = df.apply(impute_bank, axis=1)\n",
    "\n",
    "# Vérifier le résultat\n",
    "print(df[\"Bank\"].isnull().sum())\n",
    "print(df[\"Bank\"].value_counts().head())\n"
   ]
  },
  {
   "cell_type": "markdown",
   "metadata": {},
   "source": [
    "# BAAAM!!"
   ]
  },
  {
   "cell_type": "markdown",
   "metadata": {},
   "source": [
    "### BankState"
   ]
  },
  {
   "cell_type": "markdown",
   "metadata": {},
   "source": [
    "utile ou non... bof sinon on essaye de remplir les valeurs manquantes en cherchant directement avec la colonne bank."
   ]
  },
  {
   "cell_type": "code",
   "execution_count": 11,
   "metadata": {},
   "outputs": [
    {
     "name": "stdout",
     "output_type": "stream",
     "text": [
      "Valeurs manquantes dans 'BankState' après imputation : 0\n"
     ]
    }
   ],
   "source": [
    "# On crée d'abord un mapping : pour chaque banque, le mode (la valeur la plus fréquente) de BankState\n",
    "bank_state_mode = (\n",
    "    df[df[\"BankState\"].notnull()]\n",
    "    .groupby(\"Bank\")[\"BankState\"]\n",
    "    .agg(lambda x: x.mode().iloc[0] if not x.mode().empty else \"Unknown\")\n",
    ")\n",
    "\n",
    "# Fonction modifiée pour imputer la valeur manquante dans BankState en se basant sur la banque\n",
    "def fill_bankstate(row):\n",
    "    if pd.isnull(row[\"BankState\"]):\n",
    "        # Si la banque est présente dans le mapping, on retourne sa valeur la plus fréquente\n",
    "        if row[\"Bank\"] in bank_state_mode:\n",
    "            return bank_state_mode[row[\"Bank\"]]\n",
    "        else:\n",
    "            return \"Unknown\"\n",
    "    else:\n",
    "        return row[\"BankState\"]\n",
    "\n",
    "df[\"BankState\"] = df.apply(fill_bankstate, axis=1)\n",
    "\n",
    "print(f\"Valeurs manquantes dans 'BankState' après imputation : {df['BankState'].isnull().sum()}\")\n"
   ]
  },
  {
   "cell_type": "code",
   "execution_count": 12,
   "metadata": {},
   "outputs": [
    {
     "data": {
      "text/plain": [
       "np.int64(1566)"
      ]
     },
     "execution_count": 12,
     "metadata": {},
     "output_type": "execute_result"
    }
   ],
   "source": [
    "df[\"BankState\"].isin([\"Unknown\"]).sum()"
   ]
  },
  {
   "cell_type": "markdown",
   "metadata": {},
   "source": [
    "bofbof, le resultat n'est pas hyper concluant."
   ]
  },
  {
   "cell_type": "markdown",
   "metadata": {},
   "source": [
    "### NAICS"
   ]
  },
  {
   "cell_type": "markdown",
   "metadata": {},
   "source": [
    "Je ne sais pas trop quoi en faire à par le passer en string comme pour zip."
   ]
  },
  {
   "cell_type": "code",
   "execution_count": 13,
   "metadata": {},
   "outputs": [
    {
     "data": {
      "text/plain": [
       "count    899164.000000\n",
       "mean     398660.950146\n",
       "std      263318.312760\n",
       "min           0.000000\n",
       "25%      235210.000000\n",
       "50%      445310.000000\n",
       "75%      561730.000000\n",
       "max      928120.000000\n",
       "Name: NAICS, dtype: float64"
      ]
     },
     "execution_count": 13,
     "metadata": {},
     "output_type": "execute_result"
    }
   ],
   "source": [
    "df[\"NAICS\"].describe()"
   ]
  },
  {
   "cell_type": "markdown",
   "metadata": {},
   "source": [
    "### ApprovalDate"
   ]
  },
  {
   "cell_type": "code",
   "execution_count": 14,
   "metadata": {},
   "outputs": [],
   "source": [
    "# Je la convertis en type datetime meme si on ne l'utilise pas\n",
    "df[\"ApprovalDate\"] = pd.to_datetime(df[\"ApprovalDate\"], format=\"%d-%b-%y\")"
   ]
  },
  {
   "cell_type": "markdown",
   "metadata": {},
   "source": [
    "### ApprovalFY"
   ]
  },
  {
   "cell_type": "code",
   "execution_count": 15,
   "metadata": {},
   "outputs": [],
   "source": [
    "#same here en entier\n"
   ]
  },
  {
   "cell_type": "markdown",
   "metadata": {},
   "source": [
    "### Term"
   ]
  },
  {
   "cell_type": "markdown",
   "metadata": {},
   "source": [
    "La colonne 'Term' => durée du prêt en mois.\n",
    "RAS"
   ]
  },
  {
   "cell_type": "markdown",
   "metadata": {},
   "source": [
    "### NoEmp"
   ]
  },
  {
   "cell_type": "markdown",
   "metadata": {},
   "source": [
    "La colonne => nombre employées. RAS"
   ]
  },
  {
   "cell_type": "markdown",
   "metadata": {},
   "source": [
    "### CreatedJob & RetainedJob"
   ]
  },
  {
   "cell_type": "markdown",
   "metadata": {},
   "source": [
    "RAS "
   ]
  },
  {
   "cell_type": "markdown",
   "metadata": {},
   "source": [
    "### NewExist"
   ]
  },
  {
   "cell_type": "code",
   "execution_count": 16,
   "metadata": {},
   "outputs": [
    {
     "data": {
      "text/plain": [
       "NewExist\n",
       "1.0    644869\n",
       "2.0    253125\n",
       "0.0      1034\n",
       "Name: count, dtype: int64"
      ]
     },
     "execution_count": 16,
     "metadata": {},
     "output_type": "execute_result"
    }
   ],
   "source": [
    "df[\"NewExist\"].value_counts()"
   ]
  },
  {
   "cell_type": "markdown",
   "metadata": {},
   "source": [
    "pour choisir que faire avec les 0, on regarde les stats pour trouver un pattern. si on vois une ressemblance avec 1 ou 2 on pourra fusionner."
   ]
  },
  {
   "cell_type": "code",
   "execution_count": 17,
   "metadata": {},
   "outputs": [
    {
     "name": "stdout",
     "output_type": "stream",
     "text": [
      "           NoEmp                                CreateJob                     \\\n",
      "           count       mean median         std       mean median         std   \n",
      "NewExist                                                                       \n",
      "0.0         1034  21.710832    8.0  161.383517  31.205996    0.0  483.032219   \n",
      "1.0       644869  13.256068    5.0   75.792664   8.675672    0.0  244.754617   \n",
      "2.0       253125   6.670799    2.0   68.819799   7.715516    0.0  213.146927   \n",
      "\n",
      "         RetainedJob                     \n",
      "                mean median         std  \n",
      "NewExist                                 \n",
      "0.0        28.193424    0.0  473.529201  \n",
      "1.0        12.104979    1.0  245.211904  \n",
      "2.0         7.395619    0.0  213.567956  \n"
     ]
    }
   ],
   "source": [
    "# On regroupe les données par la variable NewExist\n",
    "# et on calcule quelques statistiques pour les colonnes NoEmp, CreateJob et RetainedJob.\n",
    "grouped_stats = df.groupby(\"NewExist\").agg({\n",
    "    'NoEmp': ['count', 'mean', 'median', 'std'],\n",
    "    'CreateJob': ['mean', 'median', 'std'],\n",
    "    'RetainedJob': ['mean', 'median', 'std']\n",
    "})\n",
    "\n",
    "print(grouped_stats)\n"
   ]
  },
  {
   "cell_type": "markdown",
   "metadata": {},
   "source": [
    "On observe bien que NewExist = 0 présentent des caractéristiques similaires à ceux avec NewExist = 1 . Je décide donc de fusionner les deux.\n",
    "On remplace 0 par 1."
   ]
  },
  {
   "cell_type": "code",
   "execution_count": 18,
   "metadata": {},
   "outputs": [],
   "source": [
    "df[\"NewExist\"] = df[\"NewExist\"].replace(0, 1)"
   ]
  },
  {
   "cell_type": "markdown",
   "metadata": {},
   "source": [
    "### FranchiseCode"
   ]
  },
  {
   "cell_type": "code",
   "execution_count": 19,
   "metadata": {},
   "outputs": [
    {
     "data": {
      "text/plain": [
       "array([    1,     0, 15100, ...,  2899, 18701, 15930], shape=(2768,))"
      ]
     },
     "execution_count": 19,
     "metadata": {},
     "output_type": "execute_result"
    }
   ],
   "source": [
    "df[\"FranchiseCode\"].unique()"
   ]
  },
  {
   "cell_type": "markdown",
   "metadata": {},
   "source": [
    "Ici on a beaucoup de valeurs différentes, on va les regrouper en deux catégories, franchise ou non, dans une nouvelle colonne."
   ]
  },
  {
   "cell_type": "code",
   "execution_count": 20,
   "metadata": {},
   "outputs": [
    {
     "data": {
      "text/plain": [
       "IsFranchise\n",
       "1    690329\n",
       "0    208835\n",
       "Name: count, dtype: int64"
      ]
     },
     "execution_count": 20,
     "metadata": {},
     "output_type": "execute_result"
    }
   ],
   "source": [
    "df[\"IsFranchise\"] = (df[\"FranchiseCode\"] != 0).astype(int)\n",
    "df[\"IsFranchise\"].value_counts()"
   ]
  },
  {
   "cell_type": "markdown",
   "metadata": {},
   "source": [
    "### UrbanRural"
   ]
  },
  {
   "cell_type": "markdown",
   "metadata": {},
   "source": [
    "je penses garder les 3 catégories ici... \n",
    "1 = Urban, 2 = rural, 0 = undefined"
   ]
  },
  {
   "cell_type": "code",
   "execution_count": 21,
   "metadata": {},
   "outputs": [
    {
     "name": "stdout",
     "output_type": "stream",
     "text": [
      "UrbanRural\n",
      "1    470654\n",
      "0    323167\n",
      "2    105343\n",
      "Name: count, dtype: int64\n"
     ]
    }
   ],
   "source": [
    "# Vérifions la distribution pour voir la proportion de chaque catégorie.\n",
    "print(df['UrbanRural'].value_counts())\n"
   ]
  },
  {
   "cell_type": "markdown",
   "metadata": {},
   "source": [
    "### RevLineCr"
   ]
  },
  {
   "cell_type": "markdown",
   "metadata": {},
   "source": [
    "La colonne 'RevLineCr' indique si le prêt inclut une ligne de crédit renouvelable.\n",
    "Je remplace les valeurs manquantes par 'N', je nclean la str,\n",
    "et je mappe 'Y' à 1 et 'N' à 0 pour avoir une variable binaire.\n"
   ]
  },
  {
   "cell_type": "code",
   "execution_count": 22,
   "metadata": {},
   "outputs": [],
   "source": [
    "\n",
    "df[\"RevLineCr\"] = df[\"RevLineCr\"].fillna(\"N\").str.strip().str.upper()\n",
    "df[\"RevLineCr\"] = df[\"RevLineCr\"].map({\"Y\": 1, \"N\": 0})\n"
   ]
  },
  {
   "cell_type": "code",
   "execution_count": 23,
   "metadata": {},
   "outputs": [
    {
     "data": {
      "text/plain": [
       "RevLineCr\n",
       "0.0    424816\n",
       "1.0    201397\n",
       "Name: count, dtype: int64"
      ]
     },
     "execution_count": 23,
     "metadata": {},
     "output_type": "execute_result"
    }
   ],
   "source": [
    "df[\"RevLineCr\"].value_counts()"
   ]
  },
  {
   "cell_type": "markdown",
   "metadata": {},
   "source": [
    "### LowDoc"
   ]
  },
  {
   "cell_type": "code",
   "execution_count": 24,
   "metadata": {},
   "outputs": [
    {
     "data": {
      "text/plain": [
       "LowDoc\n",
       "N    782822\n",
       "Y    110335\n",
       "0      1491\n",
       "C       758\n",
       "S       603\n",
       "A       497\n",
       "R        75\n",
       "1         1\n",
       "Name: count, dtype: int64"
      ]
     },
     "execution_count": 24,
     "metadata": {},
     "output_type": "execute_result"
    }
   ],
   "source": [
    "df[\"LowDoc\"].value_counts()"
   ]
  },
  {
   "cell_type": "markdown",
   "metadata": {},
   "source": [
    "Valeurs bizarre ici, plusieurs possibilité, soit Y et les autres=N\n",
    "Soit Y et 1 et les autres = N "
   ]
  },
  {
   "cell_type": "code",
   "execution_count": 25,
   "metadata": {},
   "outputs": [
    {
     "name": "stdout",
     "output_type": "stream",
     "text": [
      "LowDoc\n",
      "0    788829\n",
      "1    110335\n",
      "Name: count, dtype: int64\n"
     ]
    }
   ],
   "source": [
    "#fonction de recodage\n",
    "\n",
    "def recode_lowdoc(val):\n",
    "    # On convertit en chaîne, on retire les espaces et on met en majuscules\n",
    "    v = str(val).strip().upper()\n",
    "    # Si la valeur est 'Y' ou '1', on la considère comme \"oui\" (1), sinon comme \"non\" (0)\n",
    "    if v in ['Y']:\n",
    "        return 1\n",
    "    else:\n",
    "        return 0\n",
    "\n",
    "df[\"LowDoc\"] = df[\"LowDoc\"].apply(recode_lowdoc)\n",
    "\n",
    "print(df[\"LowDoc\"].value_counts())\n"
   ]
  },
  {
   "cell_type": "markdown",
   "metadata": {},
   "source": [
    "### DisbursementGross"
   ]
  },
  {
   "cell_type": "markdown",
   "metadata": {},
   "source": [
    "Clean clean clean\n"
   ]
  },
  {
   "cell_type": "code",
   "execution_count": 26,
   "metadata": {},
   "outputs": [
    {
     "name": "stderr",
     "output_type": "stream",
     "text": [
      "<>:1: SyntaxWarning: invalid escape sequence '\\$'\n",
      "<>:1: SyntaxWarning: invalid escape sequence '\\$'\n",
      "/tmp/ipykernel_67977/529597651.py:1: SyntaxWarning: invalid escape sequence '\\$'\n",
      "  df[\"DisbursementGross\"] = df[\"DisbursementGross\"].str.replace('[\\$,]', '', regex=True).str.strip().astype(float)\n"
     ]
    }
   ],
   "source": [
    "\n",
    "df[\"DisbursementGross\"] = df[\"DisbursementGross\"].str.replace('[\\$,]', '', regex=True).str.strip().astype(float)\n"
   ]
  },
  {
   "cell_type": "code",
   "execution_count": 27,
   "metadata": {},
   "outputs": [
    {
     "name": "stdout",
     "output_type": "stream",
     "text": [
      "0     60000.0\n",
      "1     40000.0\n",
      "2    287000.0\n",
      "3     35000.0\n",
      "4    229000.0\n",
      "Name: DisbursementGross, dtype: float64\n"
     ]
    }
   ],
   "source": [
    "\n",
    "# Vérification rapide des premières lignes pour s'assurer que le nettoyage a fonctionné\n",
    "print(df[\"DisbursementGross\"].head())\n"
   ]
  },
  {
   "cell_type": "markdown",
   "metadata": {},
   "source": [
    "### GrAppv"
   ]
  },
  {
   "cell_type": "markdown",
   "metadata": {},
   "source": [
    "clean clean borring\n"
   ]
  },
  {
   "cell_type": "code",
   "execution_count": 28,
   "metadata": {},
   "outputs": [
    {
     "name": "stderr",
     "output_type": "stream",
     "text": [
      "<>:1: SyntaxWarning: invalid escape sequence '\\$'\n",
      "<>:1: SyntaxWarning: invalid escape sequence '\\$'\n",
      "/tmp/ipykernel_67977/1115507837.py:1: SyntaxWarning: invalid escape sequence '\\$'\n",
      "  df[\"GrAppv\"] = (df[\"GrAppv\"].str.replace('[\\$,]', '', regex=True).str.strip().astype(float))\n"
     ]
    }
   ],
   "source": [
    "df[\"GrAppv\"] = (df[\"GrAppv\"].str.replace('[\\$,]', '', regex=True).str.strip().astype(float))\n"
   ]
  },
  {
   "cell_type": "markdown",
   "metadata": {},
   "source": [
    "### SBA_Appv"
   ]
  },
  {
   "cell_type": "code",
   "execution_count": 29,
   "metadata": {},
   "outputs": [
    {
     "name": "stderr",
     "output_type": "stream",
     "text": [
      "<>:1: SyntaxWarning: invalid escape sequence '\\$'\n",
      "<>:1: SyntaxWarning: invalid escape sequence '\\$'\n",
      "/tmp/ipykernel_67977/2503268751.py:1: SyntaxWarning: invalid escape sequence '\\$'\n",
      "  df[\"SBA_Appv\"] = (df[\"SBA_Appv\"].str.replace('[\\$,]', '', regex=True).str.strip().astype(float))\n"
     ]
    }
   ],
   "source": [
    "df[\"SBA_Appv\"] = (df[\"SBA_Appv\"].str.replace('[\\$,]', '', regex=True).str.strip().astype(float))"
   ]
  },
  {
   "cell_type": "markdown",
   "metadata": {},
   "source": [
    "### MIS_Status"
   ]
  },
  {
   "cell_type": "markdown",
   "metadata": {},
   "source": [
    "On n'oublie pas la Target."
   ]
  },
  {
   "cell_type": "code",
   "execution_count": 30,
   "metadata": {},
   "outputs": [
    {
     "data": {
      "text/plain": [
       "np.int64(0)"
      ]
     },
     "execution_count": 30,
     "metadata": {},
     "output_type": "execute_result"
    }
   ],
   "source": [
    "df['MIS_Status'] = df['MIS_Status'].fillna(\n",
    "    df['ChgOffDate'].apply(lambda x: 'P I F' if pd.isna(x) else 'CHGOFF')\n",
    ")\n",
    "\n",
    "df['MIS_Status'] = df['MIS_Status'].map({'P I F': 1, 'CHGOFF': 0})\n",
    "\n",
    "df['MIS_Status'].isna().sum()"
   ]
  },
  {
   "cell_type": "markdown",
   "metadata": {},
   "source": [
    "## VOILAAA pour le moment on a nettoyer les données manquantes et maintenant je retire les colonnes qui leak la target:"
   ]
  },
  {
   "cell_type": "markdown",
   "metadata": {},
   "source": [
    "reflexion sur zip grappv et sba_appv... pertinence à vérifier."
   ]
  },
  {
   "cell_type": "code",
   "execution_count": 31,
   "metadata": {},
   "outputs": [],
   "source": [
    "cols_to_drop = [\"ChgOffDate\", \"BalanceGross\", \"ChgOffPrinGr\", \"DisbursementDate\"]# \"GrAppv\", \"SBA_Appv\"\n",
    "df.drop(columns=cols_to_drop, inplace=True)"
   ]
  },
  {
   "cell_type": "code",
   "execution_count": 32,
   "metadata": {},
   "outputs": [
    {
     "name": "stdout",
     "output_type": "stream",
     "text": [
      "Colonnes restantes après suppression du target leakage:\n",
      "Index(['LoanNr_ChkDgt', 'State', 'Zip', 'Bank', 'BankState', 'NAICS',\n",
      "       'ApprovalDate', 'ApprovalFY', 'Term', 'NoEmp', 'NewExist', 'CreateJob',\n",
      "       'RetainedJob', 'FranchiseCode', 'UrbanRural', 'RevLineCr', 'LowDoc',\n",
      "       'DisbursementGross', 'MIS_Status', 'GrAppv', 'SBA_Appv', 'IsFranchise'],\n",
      "      dtype='object')\n"
     ]
    }
   ],
   "source": [
    "print(\"Colonnes restantes après suppression du target leakage:\")\n",
    "print(df.columns)\n"
   ]
  },
  {
   "cell_type": "code",
   "execution_count": 33,
   "metadata": {},
   "outputs": [
    {
     "data": {
      "text/html": [
       "<div>\n",
       "<style scoped>\n",
       "    .dataframe tbody tr th:only-of-type {\n",
       "        vertical-align: middle;\n",
       "    }\n",
       "\n",
       "    .dataframe tbody tr th {\n",
       "        vertical-align: top;\n",
       "    }\n",
       "\n",
       "    .dataframe thead th {\n",
       "        text-align: right;\n",
       "    }\n",
       "</style>\n",
       "<table border=\"1\" class=\"dataframe\">\n",
       "  <thead>\n",
       "    <tr style=\"text-align: right;\">\n",
       "      <th></th>\n",
       "      <th>MIS_Status</th>\n",
       "      <th>LoanNr_ChkDgt</th>\n",
       "      <th>State</th>\n",
       "      <th>Zip</th>\n",
       "      <th>UrbanRural</th>\n",
       "      <th>Bank</th>\n",
       "      <th>BankState</th>\n",
       "      <th>NAICS</th>\n",
       "      <th>NoEmp</th>\n",
       "      <th>NewExist</th>\n",
       "      <th>...</th>\n",
       "      <th>FranchiseCode</th>\n",
       "      <th>IsFranchise</th>\n",
       "      <th>Term</th>\n",
       "      <th>RevLineCr</th>\n",
       "      <th>LowDoc</th>\n",
       "      <th>DisbursementGross</th>\n",
       "      <th>ApprovalDate</th>\n",
       "      <th>ApprovalFY</th>\n",
       "      <th>GrAppv</th>\n",
       "      <th>SBA_Appv</th>\n",
       "    </tr>\n",
       "  </thead>\n",
       "  <tbody>\n",
       "    <tr>\n",
       "      <th>0</th>\n",
       "      <td>1</td>\n",
       "      <td>1000014003</td>\n",
       "      <td>IN</td>\n",
       "      <td>47711</td>\n",
       "      <td>0</td>\n",
       "      <td>FIFTH THIRD BANK</td>\n",
       "      <td>OH</td>\n",
       "      <td>451120</td>\n",
       "      <td>4</td>\n",
       "      <td>2.0</td>\n",
       "      <td>...</td>\n",
       "      <td>1</td>\n",
       "      <td>1</td>\n",
       "      <td>84</td>\n",
       "      <td>0.0</td>\n",
       "      <td>1</td>\n",
       "      <td>60000.0</td>\n",
       "      <td>1997-02-28</td>\n",
       "      <td>1997</td>\n",
       "      <td>60000.0</td>\n",
       "      <td>48000.0</td>\n",
       "    </tr>\n",
       "    <tr>\n",
       "      <th>1</th>\n",
       "      <td>1</td>\n",
       "      <td>1000024006</td>\n",
       "      <td>IN</td>\n",
       "      <td>46526</td>\n",
       "      <td>0</td>\n",
       "      <td>1ST SOURCE BANK</td>\n",
       "      <td>IN</td>\n",
       "      <td>722410</td>\n",
       "      <td>2</td>\n",
       "      <td>2.0</td>\n",
       "      <td>...</td>\n",
       "      <td>1</td>\n",
       "      <td>1</td>\n",
       "      <td>60</td>\n",
       "      <td>0.0</td>\n",
       "      <td>1</td>\n",
       "      <td>40000.0</td>\n",
       "      <td>1997-02-28</td>\n",
       "      <td>1997</td>\n",
       "      <td>40000.0</td>\n",
       "      <td>32000.0</td>\n",
       "    </tr>\n",
       "    <tr>\n",
       "      <th>2</th>\n",
       "      <td>1</td>\n",
       "      <td>1000034009</td>\n",
       "      <td>IN</td>\n",
       "      <td>47401</td>\n",
       "      <td>0</td>\n",
       "      <td>GRANT COUNTY STATE BANK</td>\n",
       "      <td>IN</td>\n",
       "      <td>621210</td>\n",
       "      <td>7</td>\n",
       "      <td>1.0</td>\n",
       "      <td>...</td>\n",
       "      <td>1</td>\n",
       "      <td>1</td>\n",
       "      <td>180</td>\n",
       "      <td>0.0</td>\n",
       "      <td>0</td>\n",
       "      <td>287000.0</td>\n",
       "      <td>1997-02-28</td>\n",
       "      <td>1997</td>\n",
       "      <td>287000.0</td>\n",
       "      <td>215250.0</td>\n",
       "    </tr>\n",
       "    <tr>\n",
       "      <th>3</th>\n",
       "      <td>1</td>\n",
       "      <td>1000044001</td>\n",
       "      <td>OK</td>\n",
       "      <td>74012</td>\n",
       "      <td>0</td>\n",
       "      <td>1ST NATL BK &amp; TR CO OF BROKEN</td>\n",
       "      <td>OK</td>\n",
       "      <td>0</td>\n",
       "      <td>2</td>\n",
       "      <td>1.0</td>\n",
       "      <td>...</td>\n",
       "      <td>1</td>\n",
       "      <td>1</td>\n",
       "      <td>60</td>\n",
       "      <td>0.0</td>\n",
       "      <td>1</td>\n",
       "      <td>35000.0</td>\n",
       "      <td>1997-02-28</td>\n",
       "      <td>1997</td>\n",
       "      <td>35000.0</td>\n",
       "      <td>28000.0</td>\n",
       "    </tr>\n",
       "    <tr>\n",
       "      <th>4</th>\n",
       "      <td>1</td>\n",
       "      <td>1000054004</td>\n",
       "      <td>FL</td>\n",
       "      <td>32801</td>\n",
       "      <td>0</td>\n",
       "      <td>FLORIDA BUS. DEVEL CORP</td>\n",
       "      <td>FL</td>\n",
       "      <td>0</td>\n",
       "      <td>14</td>\n",
       "      <td>1.0</td>\n",
       "      <td>...</td>\n",
       "      <td>1</td>\n",
       "      <td>1</td>\n",
       "      <td>240</td>\n",
       "      <td>0.0</td>\n",
       "      <td>0</td>\n",
       "      <td>229000.0</td>\n",
       "      <td>1997-02-28</td>\n",
       "      <td>1997</td>\n",
       "      <td>229000.0</td>\n",
       "      <td>229000.0</td>\n",
       "    </tr>\n",
       "    <tr>\n",
       "      <th>...</th>\n",
       "      <td>...</td>\n",
       "      <td>...</td>\n",
       "      <td>...</td>\n",
       "      <td>...</td>\n",
       "      <td>...</td>\n",
       "      <td>...</td>\n",
       "      <td>...</td>\n",
       "      <td>...</td>\n",
       "      <td>...</td>\n",
       "      <td>...</td>\n",
       "      <td>...</td>\n",
       "      <td>...</td>\n",
       "      <td>...</td>\n",
       "      <td>...</td>\n",
       "      <td>...</td>\n",
       "      <td>...</td>\n",
       "      <td>...</td>\n",
       "      <td>...</td>\n",
       "      <td>...</td>\n",
       "      <td>...</td>\n",
       "      <td>...</td>\n",
       "    </tr>\n",
       "    <tr>\n",
       "      <th>899159</th>\n",
       "      <td>1</td>\n",
       "      <td>9995573004</td>\n",
       "      <td>OH</td>\n",
       "      <td>43221</td>\n",
       "      <td>0</td>\n",
       "      <td>JPMORGAN CHASE BANK NATL ASSOC</td>\n",
       "      <td>IL</td>\n",
       "      <td>451120</td>\n",
       "      <td>6</td>\n",
       "      <td>1.0</td>\n",
       "      <td>...</td>\n",
       "      <td>1</td>\n",
       "      <td>1</td>\n",
       "      <td>60</td>\n",
       "      <td>NaN</td>\n",
       "      <td>0</td>\n",
       "      <td>70000.0</td>\n",
       "      <td>1997-02-27</td>\n",
       "      <td>1997</td>\n",
       "      <td>70000.0</td>\n",
       "      <td>56000.0</td>\n",
       "    </tr>\n",
       "    <tr>\n",
       "      <th>899160</th>\n",
       "      <td>1</td>\n",
       "      <td>9995603000</td>\n",
       "      <td>OH</td>\n",
       "      <td>43221</td>\n",
       "      <td>0</td>\n",
       "      <td>JPMORGAN CHASE BANK NATL ASSOC</td>\n",
       "      <td>IL</td>\n",
       "      <td>451130</td>\n",
       "      <td>6</td>\n",
       "      <td>1.0</td>\n",
       "      <td>...</td>\n",
       "      <td>1</td>\n",
       "      <td>1</td>\n",
       "      <td>60</td>\n",
       "      <td>1.0</td>\n",
       "      <td>0</td>\n",
       "      <td>85000.0</td>\n",
       "      <td>1997-02-27</td>\n",
       "      <td>1997</td>\n",
       "      <td>85000.0</td>\n",
       "      <td>42500.0</td>\n",
       "    </tr>\n",
       "    <tr>\n",
       "      <th>899161</th>\n",
       "      <td>1</td>\n",
       "      <td>9995613003</td>\n",
       "      <td>CA</td>\n",
       "      <td>93455</td>\n",
       "      <td>0</td>\n",
       "      <td>RABOBANK, NATIONAL ASSOCIATION</td>\n",
       "      <td>CA</td>\n",
       "      <td>332321</td>\n",
       "      <td>26</td>\n",
       "      <td>1.0</td>\n",
       "      <td>...</td>\n",
       "      <td>1</td>\n",
       "      <td>1</td>\n",
       "      <td>108</td>\n",
       "      <td>0.0</td>\n",
       "      <td>0</td>\n",
       "      <td>300000.0</td>\n",
       "      <td>1997-02-27</td>\n",
       "      <td>1997</td>\n",
       "      <td>300000.0</td>\n",
       "      <td>225000.0</td>\n",
       "    </tr>\n",
       "    <tr>\n",
       "      <th>899162</th>\n",
       "      <td>0</td>\n",
       "      <td>9995973006</td>\n",
       "      <td>HI</td>\n",
       "      <td>96830</td>\n",
       "      <td>0</td>\n",
       "      <td>BANK OF HAWAII</td>\n",
       "      <td>HI</td>\n",
       "      <td>0</td>\n",
       "      <td>6</td>\n",
       "      <td>1.0</td>\n",
       "      <td>...</td>\n",
       "      <td>1</td>\n",
       "      <td>1</td>\n",
       "      <td>60</td>\n",
       "      <td>0.0</td>\n",
       "      <td>1</td>\n",
       "      <td>75000.0</td>\n",
       "      <td>1997-02-27</td>\n",
       "      <td>1997</td>\n",
       "      <td>75000.0</td>\n",
       "      <td>60000.0</td>\n",
       "    </tr>\n",
       "    <tr>\n",
       "      <th>899163</th>\n",
       "      <td>1</td>\n",
       "      <td>9996003010</td>\n",
       "      <td>HI</td>\n",
       "      <td>96734</td>\n",
       "      <td>0</td>\n",
       "      <td>CENTRAL PACIFIC BANK</td>\n",
       "      <td>HI</td>\n",
       "      <td>0</td>\n",
       "      <td>1</td>\n",
       "      <td>2.0</td>\n",
       "      <td>...</td>\n",
       "      <td>1</td>\n",
       "      <td>1</td>\n",
       "      <td>48</td>\n",
       "      <td>0.0</td>\n",
       "      <td>0</td>\n",
       "      <td>30000.0</td>\n",
       "      <td>1997-02-27</td>\n",
       "      <td>1997</td>\n",
       "      <td>30000.0</td>\n",
       "      <td>24000.0</td>\n",
       "    </tr>\n",
       "  </tbody>\n",
       "</table>\n",
       "<p>899164 rows × 22 columns</p>\n",
       "</div>"
      ],
      "text/plain": [
       "        MIS_Status  LoanNr_ChkDgt State    Zip  UrbanRural  \\\n",
       "0                1     1000014003    IN  47711           0   \n",
       "1                1     1000024006    IN  46526           0   \n",
       "2                1     1000034009    IN  47401           0   \n",
       "3                1     1000044001    OK  74012           0   \n",
       "4                1     1000054004    FL  32801           0   \n",
       "...            ...            ...   ...    ...         ...   \n",
       "899159           1     9995573004    OH  43221           0   \n",
       "899160           1     9995603000    OH  43221           0   \n",
       "899161           1     9995613003    CA  93455           0   \n",
       "899162           0     9995973006    HI  96830           0   \n",
       "899163           1     9996003010    HI  96734           0   \n",
       "\n",
       "                                  Bank BankState   NAICS  NoEmp  NewExist  \\\n",
       "0                     FIFTH THIRD BANK        OH  451120      4       2.0   \n",
       "1                      1ST SOURCE BANK        IN  722410      2       2.0   \n",
       "2              GRANT COUNTY STATE BANK        IN  621210      7       1.0   \n",
       "3        1ST NATL BK & TR CO OF BROKEN        OK       0      2       1.0   \n",
       "4              FLORIDA BUS. DEVEL CORP        FL       0     14       1.0   \n",
       "...                                ...       ...     ...    ...       ...   \n",
       "899159  JPMORGAN CHASE BANK NATL ASSOC        IL  451120      6       1.0   \n",
       "899160  JPMORGAN CHASE BANK NATL ASSOC        IL  451130      6       1.0   \n",
       "899161  RABOBANK, NATIONAL ASSOCIATION        CA  332321     26       1.0   \n",
       "899162                  BANK OF HAWAII        HI       0      6       1.0   \n",
       "899163            CENTRAL PACIFIC BANK        HI       0      1       2.0   \n",
       "\n",
       "        ...  FranchiseCode  IsFranchise  Term  RevLineCr  LowDoc  \\\n",
       "0       ...              1            1    84        0.0       1   \n",
       "1       ...              1            1    60        0.0       1   \n",
       "2       ...              1            1   180        0.0       0   \n",
       "3       ...              1            1    60        0.0       1   \n",
       "4       ...              1            1   240        0.0       0   \n",
       "...     ...            ...          ...   ...        ...     ...   \n",
       "899159  ...              1            1    60        NaN       0   \n",
       "899160  ...              1            1    60        1.0       0   \n",
       "899161  ...              1            1   108        0.0       0   \n",
       "899162  ...              1            1    60        0.0       1   \n",
       "899163  ...              1            1    48        0.0       0   \n",
       "\n",
       "        DisbursementGross  ApprovalDate  ApprovalFY    GrAppv  SBA_Appv  \n",
       "0                 60000.0    1997-02-28        1997   60000.0   48000.0  \n",
       "1                 40000.0    1997-02-28        1997   40000.0   32000.0  \n",
       "2                287000.0    1997-02-28        1997  287000.0  215250.0  \n",
       "3                 35000.0    1997-02-28        1997   35000.0   28000.0  \n",
       "4                229000.0    1997-02-28        1997  229000.0  229000.0  \n",
       "...                   ...           ...         ...       ...       ...  \n",
       "899159            70000.0    1997-02-27        1997   70000.0   56000.0  \n",
       "899160            85000.0    1997-02-27        1997   85000.0   42500.0  \n",
       "899161           300000.0    1997-02-27        1997  300000.0  225000.0  \n",
       "899162            75000.0    1997-02-27        1997   75000.0   60000.0  \n",
       "899163            30000.0    1997-02-27        1997   30000.0   24000.0  \n",
       "\n",
       "[899164 rows x 22 columns]"
      ]
     },
     "execution_count": 33,
     "metadata": {},
     "output_type": "execute_result"
    }
   ],
   "source": [
    "ordre_colonnes =['MIS_Status', 'LoanNr_ChkDgt',\n",
    "        'State', 'Zip', 'UrbanRural', 'Bank', 'BankState', #localisation\n",
    "        'NAICS', 'NoEmp', 'NewExist', 'CreateJob','RetainedJob','FranchiseCode', 'IsFranchise', #entreprise\n",
    "        'Term','RevLineCr', 'LowDoc','DisbursementGross','ApprovalDate', 'ApprovalFY', 'GrAppv', 'SBA_Appv'] #prêt\n",
    "\n",
    "df = df[ordre_colonnes]\n",
    "df"
   ]
  },
  {
   "cell_type": "markdown",
   "metadata": {},
   "source": [
    "# DONE"
   ]
  },
  {
   "cell_type": "code",
   "execution_count": 34,
   "metadata": {},
   "outputs": [
    {
     "data": {
      "text/plain": [
       "MIS_Status                0\n",
       "LoanNr_ChkDgt             0\n",
       "State                     0\n",
       "Zip                       0\n",
       "UrbanRural                0\n",
       "Bank                      0\n",
       "BankState                 0\n",
       "NAICS                     0\n",
       "NoEmp                     0\n",
       "NewExist                136\n",
       "CreateJob                 0\n",
       "RetainedJob               0\n",
       "FranchiseCode             0\n",
       "IsFranchise               0\n",
       "Term                      0\n",
       "RevLineCr            272951\n",
       "LowDoc                    0\n",
       "DisbursementGross         0\n",
       "ApprovalDate              0\n",
       "ApprovalFY                0\n",
       "GrAppv                    0\n",
       "SBA_Appv                  0\n",
       "dtype: int64"
      ]
     },
     "execution_count": 34,
     "metadata": {},
     "output_type": "execute_result"
    }
   ],
   "source": [
    "df.isna().sum()"
   ]
  },
  {
   "cell_type": "markdown",
   "metadata": {},
   "source": [
    "oups je me rends compte que j'ai oublier des valeurs nulles dans la colonne NewExist... comment gerer ça?"
   ]
  },
  {
   "cell_type": "code",
   "execution_count": 35,
   "metadata": {},
   "outputs": [
    {
     "data": {
      "text/plain": [
       "array([ 2.,  1., nan])"
      ]
     },
     "execution_count": 35,
     "metadata": {},
     "output_type": "execute_result"
    }
   ],
   "source": [
    "df['NewExist'].unique()"
   ]
  },
  {
   "cell_type": "code",
   "execution_count": 36,
   "metadata": {},
   "outputs": [
    {
     "name": "stdout",
     "output_type": "stream",
     "text": [
      "NewExist\n",
      "1.0    645903\n",
      "2.0    253261\n",
      "Name: count, dtype: int64\n"
     ]
    }
   ],
   "source": [
    "# Imputation des valeurs manquantes dans NewExist en se basant sur l'analyse statistique\n",
    "# On impute avec 2 (entreprises nouvelles) car les caractéristiques des enregistrements manquants se rapprochent davantage du groupe 2.\n",
    "df[\"NewExist\"] = df[\"NewExist\"].fillna(2)\n",
    "\n",
    "# Vérification rapide de la distribution après imputation\n",
    "print(df[\"NewExist\"].value_counts())\n",
    "\n"
   ]
  },
  {
   "cell_type": "code",
   "execution_count": 37,
   "metadata": {},
   "outputs": [
    {
     "data": {
      "text/plain": [
       "MIS_Status                0\n",
       "LoanNr_ChkDgt             0\n",
       "State                     0\n",
       "Zip                       0\n",
       "UrbanRural                0\n",
       "Bank                      0\n",
       "BankState                 0\n",
       "NAICS                     0\n",
       "NoEmp                     0\n",
       "NewExist                  0\n",
       "CreateJob                 0\n",
       "RetainedJob               0\n",
       "FranchiseCode             0\n",
       "IsFranchise               0\n",
       "Term                      0\n",
       "RevLineCr            272951\n",
       "LowDoc                    0\n",
       "DisbursementGross         0\n",
       "ApprovalDate              0\n",
       "ApprovalFY                0\n",
       "GrAppv                    0\n",
       "SBA_Appv                  0\n",
       "dtype: int64"
      ]
     },
     "execution_count": 37,
     "metadata": {},
     "output_type": "execute_result"
    }
   ],
   "source": [
    "df.isna().sum()"
   ]
  },
  {
   "cell_type": "markdown",
   "metadata": {},
   "source": [
    "pour RevLineCr aussi on a un soucis, les valeur nulles nont pas été changer. car nan."
   ]
  },
  {
   "cell_type": "code",
   "execution_count": 38,
   "metadata": {},
   "outputs": [
    {
     "data": {
      "text/plain": [
       "array([ 0., nan,  1.])"
      ]
     },
     "execution_count": 38,
     "metadata": {},
     "output_type": "execute_result"
    }
   ],
   "source": [
    "df[\"RevLineCr\"].unique()"
   ]
  },
  {
   "cell_type": "code",
   "execution_count": 39,
   "metadata": {},
   "outputs": [
    {
     "name": "stdout",
     "output_type": "stream",
     "text": [
      "0\n"
     ]
    }
   ],
   "source": [
    "df[\"RevLineCr\"] = df[\"RevLineCr\"].astype(str)\n",
    "df[\"RevLineCr\"] = df[\"RevLineCr\"].replace(\"nan\", \"N\")\n",
    "\n",
    "df[\"RevLineCr\"] = df[\"RevLineCr\"].map(lambda x: 1 if x == \"Y\" else 0)\n",
    "\n",
    "print( df[\"RevLineCr\"].isnull().sum())\n"
   ]
  },
  {
   "cell_type": "code",
   "execution_count": 40,
   "metadata": {},
   "outputs": [
    {
     "data": {
      "text/plain": [
       "RevLineCr\n",
       "0    899164\n",
       "Name: count, dtype: int64"
      ]
     },
     "execution_count": 40,
     "metadata": {},
     "output_type": "execute_result"
    }
   ],
   "source": [
    "df[\"RevLineCr\"].value_counts()"
   ]
  },
  {
   "cell_type": "code",
   "execution_count": 41,
   "metadata": {},
   "outputs": [
    {
     "data": {
      "text/plain": [
       "MIS_Status           0\n",
       "LoanNr_ChkDgt        0\n",
       "State                0\n",
       "Zip                  0\n",
       "UrbanRural           0\n",
       "Bank                 0\n",
       "BankState            0\n",
       "NAICS                0\n",
       "NoEmp                0\n",
       "NewExist             0\n",
       "CreateJob            0\n",
       "RetainedJob          0\n",
       "FranchiseCode        0\n",
       "IsFranchise          0\n",
       "Term                 0\n",
       "RevLineCr            0\n",
       "LowDoc               0\n",
       "DisbursementGross    0\n",
       "ApprovalDate         0\n",
       "ApprovalFY           0\n",
       "GrAppv               0\n",
       "SBA_Appv             0\n",
       "dtype: int64"
      ]
     },
     "execution_count": 41,
     "metadata": {},
     "output_type": "execute_result"
    }
   ],
   "source": [
    "df.isna().sum()"
   ]
  },
  {
   "cell_type": "markdown",
   "metadata": {},
   "source": [
    "voila plus de valeur nulle, parfaitement nettoyé... "
   ]
  },
  {
   "cell_type": "code",
   "execution_count": 42,
   "metadata": {},
   "outputs": [],
   "source": [
    "df.to_csv(\"cleaned_data.csv\", index=False)"
   ]
  },
  {
   "cell_type": "code",
   "execution_count": 43,
   "metadata": {},
   "outputs": [
    {
     "data": {
      "text/html": [
       "<div>\n",
       "<style scoped>\n",
       "    .dataframe tbody tr th:only-of-type {\n",
       "        vertical-align: middle;\n",
       "    }\n",
       "\n",
       "    .dataframe tbody tr th {\n",
       "        vertical-align: top;\n",
       "    }\n",
       "\n",
       "    .dataframe thead th {\n",
       "        text-align: right;\n",
       "    }\n",
       "</style>\n",
       "<table border=\"1\" class=\"dataframe\">\n",
       "  <thead>\n",
       "    <tr style=\"text-align: right;\">\n",
       "      <th></th>\n",
       "      <th>MIS_Status</th>\n",
       "      <th>LoanNr_ChkDgt</th>\n",
       "      <th>State</th>\n",
       "      <th>Zip</th>\n",
       "      <th>UrbanRural</th>\n",
       "      <th>Bank</th>\n",
       "      <th>BankState</th>\n",
       "      <th>NAICS</th>\n",
       "      <th>NoEmp</th>\n",
       "      <th>NewExist</th>\n",
       "      <th>...</th>\n",
       "      <th>FranchiseCode</th>\n",
       "      <th>IsFranchise</th>\n",
       "      <th>Term</th>\n",
       "      <th>RevLineCr</th>\n",
       "      <th>LowDoc</th>\n",
       "      <th>DisbursementGross</th>\n",
       "      <th>ApprovalDate</th>\n",
       "      <th>ApprovalFY</th>\n",
       "      <th>GrAppv</th>\n",
       "      <th>SBA_Appv</th>\n",
       "    </tr>\n",
       "  </thead>\n",
       "  <tbody>\n",
       "    <tr>\n",
       "      <th>0</th>\n",
       "      <td>1</td>\n",
       "      <td>1000014003</td>\n",
       "      <td>IN</td>\n",
       "      <td>47711</td>\n",
       "      <td>0</td>\n",
       "      <td>FIFTH THIRD BANK</td>\n",
       "      <td>OH</td>\n",
       "      <td>451120</td>\n",
       "      <td>4</td>\n",
       "      <td>2.0</td>\n",
       "      <td>...</td>\n",
       "      <td>1</td>\n",
       "      <td>1</td>\n",
       "      <td>84</td>\n",
       "      <td>0</td>\n",
       "      <td>1</td>\n",
       "      <td>60000.0</td>\n",
       "      <td>1997-02-28</td>\n",
       "      <td>1997</td>\n",
       "      <td>60000.0</td>\n",
       "      <td>48000.0</td>\n",
       "    </tr>\n",
       "    <tr>\n",
       "      <th>1</th>\n",
       "      <td>1</td>\n",
       "      <td>1000024006</td>\n",
       "      <td>IN</td>\n",
       "      <td>46526</td>\n",
       "      <td>0</td>\n",
       "      <td>1ST SOURCE BANK</td>\n",
       "      <td>IN</td>\n",
       "      <td>722410</td>\n",
       "      <td>2</td>\n",
       "      <td>2.0</td>\n",
       "      <td>...</td>\n",
       "      <td>1</td>\n",
       "      <td>1</td>\n",
       "      <td>60</td>\n",
       "      <td>0</td>\n",
       "      <td>1</td>\n",
       "      <td>40000.0</td>\n",
       "      <td>1997-02-28</td>\n",
       "      <td>1997</td>\n",
       "      <td>40000.0</td>\n",
       "      <td>32000.0</td>\n",
       "    </tr>\n",
       "    <tr>\n",
       "      <th>2</th>\n",
       "      <td>1</td>\n",
       "      <td>1000034009</td>\n",
       "      <td>IN</td>\n",
       "      <td>47401</td>\n",
       "      <td>0</td>\n",
       "      <td>GRANT COUNTY STATE BANK</td>\n",
       "      <td>IN</td>\n",
       "      <td>621210</td>\n",
       "      <td>7</td>\n",
       "      <td>1.0</td>\n",
       "      <td>...</td>\n",
       "      <td>1</td>\n",
       "      <td>1</td>\n",
       "      <td>180</td>\n",
       "      <td>0</td>\n",
       "      <td>0</td>\n",
       "      <td>287000.0</td>\n",
       "      <td>1997-02-28</td>\n",
       "      <td>1997</td>\n",
       "      <td>287000.0</td>\n",
       "      <td>215250.0</td>\n",
       "    </tr>\n",
       "    <tr>\n",
       "      <th>3</th>\n",
       "      <td>1</td>\n",
       "      <td>1000044001</td>\n",
       "      <td>OK</td>\n",
       "      <td>74012</td>\n",
       "      <td>0</td>\n",
       "      <td>1ST NATL BK &amp; TR CO OF BROKEN</td>\n",
       "      <td>OK</td>\n",
       "      <td>0</td>\n",
       "      <td>2</td>\n",
       "      <td>1.0</td>\n",
       "      <td>...</td>\n",
       "      <td>1</td>\n",
       "      <td>1</td>\n",
       "      <td>60</td>\n",
       "      <td>0</td>\n",
       "      <td>1</td>\n",
       "      <td>35000.0</td>\n",
       "      <td>1997-02-28</td>\n",
       "      <td>1997</td>\n",
       "      <td>35000.0</td>\n",
       "      <td>28000.0</td>\n",
       "    </tr>\n",
       "    <tr>\n",
       "      <th>4</th>\n",
       "      <td>1</td>\n",
       "      <td>1000054004</td>\n",
       "      <td>FL</td>\n",
       "      <td>32801</td>\n",
       "      <td>0</td>\n",
       "      <td>FLORIDA BUS. DEVEL CORP</td>\n",
       "      <td>FL</td>\n",
       "      <td>0</td>\n",
       "      <td>14</td>\n",
       "      <td>1.0</td>\n",
       "      <td>...</td>\n",
       "      <td>1</td>\n",
       "      <td>1</td>\n",
       "      <td>240</td>\n",
       "      <td>0</td>\n",
       "      <td>0</td>\n",
       "      <td>229000.0</td>\n",
       "      <td>1997-02-28</td>\n",
       "      <td>1997</td>\n",
       "      <td>229000.0</td>\n",
       "      <td>229000.0</td>\n",
       "    </tr>\n",
       "    <tr>\n",
       "      <th>...</th>\n",
       "      <td>...</td>\n",
       "      <td>...</td>\n",
       "      <td>...</td>\n",
       "      <td>...</td>\n",
       "      <td>...</td>\n",
       "      <td>...</td>\n",
       "      <td>...</td>\n",
       "      <td>...</td>\n",
       "      <td>...</td>\n",
       "      <td>...</td>\n",
       "      <td>...</td>\n",
       "      <td>...</td>\n",
       "      <td>...</td>\n",
       "      <td>...</td>\n",
       "      <td>...</td>\n",
       "      <td>...</td>\n",
       "      <td>...</td>\n",
       "      <td>...</td>\n",
       "      <td>...</td>\n",
       "      <td>...</td>\n",
       "      <td>...</td>\n",
       "    </tr>\n",
       "    <tr>\n",
       "      <th>899159</th>\n",
       "      <td>1</td>\n",
       "      <td>9995573004</td>\n",
       "      <td>OH</td>\n",
       "      <td>43221</td>\n",
       "      <td>0</td>\n",
       "      <td>JPMORGAN CHASE BANK NATL ASSOC</td>\n",
       "      <td>IL</td>\n",
       "      <td>451120</td>\n",
       "      <td>6</td>\n",
       "      <td>1.0</td>\n",
       "      <td>...</td>\n",
       "      <td>1</td>\n",
       "      <td>1</td>\n",
       "      <td>60</td>\n",
       "      <td>0</td>\n",
       "      <td>0</td>\n",
       "      <td>70000.0</td>\n",
       "      <td>1997-02-27</td>\n",
       "      <td>1997</td>\n",
       "      <td>70000.0</td>\n",
       "      <td>56000.0</td>\n",
       "    </tr>\n",
       "    <tr>\n",
       "      <th>899160</th>\n",
       "      <td>1</td>\n",
       "      <td>9995603000</td>\n",
       "      <td>OH</td>\n",
       "      <td>43221</td>\n",
       "      <td>0</td>\n",
       "      <td>JPMORGAN CHASE BANK NATL ASSOC</td>\n",
       "      <td>IL</td>\n",
       "      <td>451130</td>\n",
       "      <td>6</td>\n",
       "      <td>1.0</td>\n",
       "      <td>...</td>\n",
       "      <td>1</td>\n",
       "      <td>1</td>\n",
       "      <td>60</td>\n",
       "      <td>0</td>\n",
       "      <td>0</td>\n",
       "      <td>85000.0</td>\n",
       "      <td>1997-02-27</td>\n",
       "      <td>1997</td>\n",
       "      <td>85000.0</td>\n",
       "      <td>42500.0</td>\n",
       "    </tr>\n",
       "    <tr>\n",
       "      <th>899161</th>\n",
       "      <td>1</td>\n",
       "      <td>9995613003</td>\n",
       "      <td>CA</td>\n",
       "      <td>93455</td>\n",
       "      <td>0</td>\n",
       "      <td>RABOBANK, NATIONAL ASSOCIATION</td>\n",
       "      <td>CA</td>\n",
       "      <td>332321</td>\n",
       "      <td>26</td>\n",
       "      <td>1.0</td>\n",
       "      <td>...</td>\n",
       "      <td>1</td>\n",
       "      <td>1</td>\n",
       "      <td>108</td>\n",
       "      <td>0</td>\n",
       "      <td>0</td>\n",
       "      <td>300000.0</td>\n",
       "      <td>1997-02-27</td>\n",
       "      <td>1997</td>\n",
       "      <td>300000.0</td>\n",
       "      <td>225000.0</td>\n",
       "    </tr>\n",
       "    <tr>\n",
       "      <th>899162</th>\n",
       "      <td>0</td>\n",
       "      <td>9995973006</td>\n",
       "      <td>HI</td>\n",
       "      <td>96830</td>\n",
       "      <td>0</td>\n",
       "      <td>BANK OF HAWAII</td>\n",
       "      <td>HI</td>\n",
       "      <td>0</td>\n",
       "      <td>6</td>\n",
       "      <td>1.0</td>\n",
       "      <td>...</td>\n",
       "      <td>1</td>\n",
       "      <td>1</td>\n",
       "      <td>60</td>\n",
       "      <td>0</td>\n",
       "      <td>1</td>\n",
       "      <td>75000.0</td>\n",
       "      <td>1997-02-27</td>\n",
       "      <td>1997</td>\n",
       "      <td>75000.0</td>\n",
       "      <td>60000.0</td>\n",
       "    </tr>\n",
       "    <tr>\n",
       "      <th>899163</th>\n",
       "      <td>1</td>\n",
       "      <td>9996003010</td>\n",
       "      <td>HI</td>\n",
       "      <td>96734</td>\n",
       "      <td>0</td>\n",
       "      <td>CENTRAL PACIFIC BANK</td>\n",
       "      <td>HI</td>\n",
       "      <td>0</td>\n",
       "      <td>1</td>\n",
       "      <td>2.0</td>\n",
       "      <td>...</td>\n",
       "      <td>1</td>\n",
       "      <td>1</td>\n",
       "      <td>48</td>\n",
       "      <td>0</td>\n",
       "      <td>0</td>\n",
       "      <td>30000.0</td>\n",
       "      <td>1997-02-27</td>\n",
       "      <td>1997</td>\n",
       "      <td>30000.0</td>\n",
       "      <td>24000.0</td>\n",
       "    </tr>\n",
       "  </tbody>\n",
       "</table>\n",
       "<p>899164 rows × 22 columns</p>\n",
       "</div>"
      ],
      "text/plain": [
       "        MIS_Status  LoanNr_ChkDgt State    Zip  UrbanRural  \\\n",
       "0                1     1000014003    IN  47711           0   \n",
       "1                1     1000024006    IN  46526           0   \n",
       "2                1     1000034009    IN  47401           0   \n",
       "3                1     1000044001    OK  74012           0   \n",
       "4                1     1000054004    FL  32801           0   \n",
       "...            ...            ...   ...    ...         ...   \n",
       "899159           1     9995573004    OH  43221           0   \n",
       "899160           1     9995603000    OH  43221           0   \n",
       "899161           1     9995613003    CA  93455           0   \n",
       "899162           0     9995973006    HI  96830           0   \n",
       "899163           1     9996003010    HI  96734           0   \n",
       "\n",
       "                                  Bank BankState   NAICS  NoEmp  NewExist  \\\n",
       "0                     FIFTH THIRD BANK        OH  451120      4       2.0   \n",
       "1                      1ST SOURCE BANK        IN  722410      2       2.0   \n",
       "2              GRANT COUNTY STATE BANK        IN  621210      7       1.0   \n",
       "3        1ST NATL BK & TR CO OF BROKEN        OK       0      2       1.0   \n",
       "4              FLORIDA BUS. DEVEL CORP        FL       0     14       1.0   \n",
       "...                                ...       ...     ...    ...       ...   \n",
       "899159  JPMORGAN CHASE BANK NATL ASSOC        IL  451120      6       1.0   \n",
       "899160  JPMORGAN CHASE BANK NATL ASSOC        IL  451130      6       1.0   \n",
       "899161  RABOBANK, NATIONAL ASSOCIATION        CA  332321     26       1.0   \n",
       "899162                  BANK OF HAWAII        HI       0      6       1.0   \n",
       "899163            CENTRAL PACIFIC BANK        HI       0      1       2.0   \n",
       "\n",
       "        ...  FranchiseCode  IsFranchise  Term  RevLineCr  LowDoc  \\\n",
       "0       ...              1            1    84          0       1   \n",
       "1       ...              1            1    60          0       1   \n",
       "2       ...              1            1   180          0       0   \n",
       "3       ...              1            1    60          0       1   \n",
       "4       ...              1            1   240          0       0   \n",
       "...     ...            ...          ...   ...        ...     ...   \n",
       "899159  ...              1            1    60          0       0   \n",
       "899160  ...              1            1    60          0       0   \n",
       "899161  ...              1            1   108          0       0   \n",
       "899162  ...              1            1    60          0       1   \n",
       "899163  ...              1            1    48          0       0   \n",
       "\n",
       "        DisbursementGross  ApprovalDate  ApprovalFY    GrAppv  SBA_Appv  \n",
       "0                 60000.0    1997-02-28        1997   60000.0   48000.0  \n",
       "1                 40000.0    1997-02-28        1997   40000.0   32000.0  \n",
       "2                287000.0    1997-02-28        1997  287000.0  215250.0  \n",
       "3                 35000.0    1997-02-28        1997   35000.0   28000.0  \n",
       "4                229000.0    1997-02-28        1997  229000.0  229000.0  \n",
       "...                   ...           ...         ...       ...       ...  \n",
       "899159            70000.0    1997-02-27        1997   70000.0   56000.0  \n",
       "899160            85000.0    1997-02-27        1997   85000.0   42500.0  \n",
       "899161           300000.0    1997-02-27        1997  300000.0  225000.0  \n",
       "899162            75000.0    1997-02-27        1997   75000.0   60000.0  \n",
       "899163            30000.0    1997-02-27        1997   30000.0   24000.0  \n",
       "\n",
       "[899164 rows x 22 columns]"
      ]
     },
     "execution_count": 43,
     "metadata": {},
     "output_type": "execute_result"
    }
   ],
   "source": [
    "df"
   ]
  }
 ],
 "metadata": {
  "kernelspec": {
   "display_name": ".venv",
   "language": "python",
   "name": "python3"
  },
  "language_info": {
   "codemirror_mode": {
    "name": "ipython",
    "version": 3
   },
   "file_extension": ".py",
   "mimetype": "text/x-python",
   "name": "python",
   "nbconvert_exporter": "python",
   "pygments_lexer": "ipython3",
   "version": "3.12.3"
  }
 },
 "nbformat": 4,
 "nbformat_minor": 2
}
