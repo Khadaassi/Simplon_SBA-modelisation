{
 "cells": [
  {
   "cell_type": "code",
   "execution_count": null,
   "metadata": {},
   "outputs": [],
   "source": [
    "rfc = RandomForestClassifier(max_depth=7, min_samples_split=10, random_state=2023)\n",
    "smote = SMOTE(random_state=2023)\n",
    "\n",
    "rfc_pipe_num = Pipeline([\n",
    "    ('scaler', RobustScaler()),\n",
    "])\n",
    "\n",
    "# for all object columns\n",
    "rfc_pipe_cat = Pipeline([\n",
    "    ('onehot', OneHotEncoder(drop='first')),\n",
    "])\n",
    "\n",
    "# transforming all columns\n",
    "rfc_transformer = ColumnTransformer([\n",
    "    ('pipe_num', rfc_pipe_num, numeric_cols),\n",
    "    ('pipe_cat', rfc_pipe_cat, one_hot_cols)\n",
    "])\n",
    "\n",
    "# combine all pipeline\n",
    "rfc_pipe_combine = Pipeline([\n",
    "    ('transformer', rfc_transformer),\n",
    "    ('rfe', RFE(rfc)),\n",
    "    ('resampling', smote),\n",
    "    ('rfc', rfc)\n",
    "])"
   ]
  }
 ],
 "metadata": {
  "kernelspec": {
   "display_name": ".venv",
   "language": "python",
   "name": "python3"
  },
  "language_info": {
   "name": "python",
   "version": "3.12.3"
  }
 },
 "nbformat": 4,
 "nbformat_minor": 2
}
